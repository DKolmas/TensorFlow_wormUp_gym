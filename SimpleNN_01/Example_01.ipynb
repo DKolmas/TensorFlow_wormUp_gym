{
 "cells": [
  {
   "cell_type": "code",
   "execution_count": 74,
   "metadata": {
    "collapsed": true
   },
   "outputs": [],
   "source": [
    "import tensorflow as tf\n",
    "import math"
   ]
  },
  {
   "cell_type": "code",
   "execution_count": 2,
   "metadata": {
    "collapsed": false
   },
   "outputs": [
    {
     "data": {
      "text/plain": [
       "'1.4.0'"
      ]
     },
     "execution_count": 2,
     "metadata": {},
     "output_type": "execute_result"
    }
   ],
   "source": [
    "tf.__version__"
   ]
  },
  {
   "cell_type": "code",
   "execution_count": 3,
   "metadata": {
    "collapsed": false
   },
   "outputs": [
    {
     "name": "stdout",
     "output_type": "stream",
     "text": [
      "Successfully downloaded train-images-idx3-ubyte.gz 9912422 bytes.\n",
      "Extracting MNIST_data/train-images-idx3-ubyte.gz\n",
      "Successfully downloaded train-labels-idx1-ubyte.gz 28881 bytes.\n",
      "Extracting MNIST_data/train-labels-idx1-ubyte.gz\n",
      "Successfully downloaded t10k-images-idx3-ubyte.gz 1648877 bytes.\n",
      "Extracting MNIST_data/t10k-images-idx3-ubyte.gz\n",
      "Successfully downloaded t10k-labels-idx1-ubyte.gz 4542 bytes.\n",
      "Extracting MNIST_data/t10k-labels-idx1-ubyte.gz\n"
     ]
    }
   ],
   "source": [
    "from tensorflow.examples.tutorials.mnist import input_data\n",
    "mnist = input_data.read_data_sets('MNIST_data', one_hot=True)"
   ]
  },
  {
   "cell_type": "code",
   "execution_count": 26,
   "metadata": {
    "collapsed": false
   },
   "outputs": [
    {
     "name": "stdout",
     "output_type": "stream",
     "text": [
      "<class 'tensorflow.contrib.learn.python.learn.datasets.base.Datasets'>\n",
      "3\n",
      "Train number of examples:  55000\n",
      "Validation number of examples:  5000\n",
      "Test number of examples:  10000\n"
     ]
    }
   ],
   "source": [
    "print(type(mnist))\n",
    "print(len(mnist))\n",
    "print(\"Train number of examples: \",mnist.train.num_examples)\n",
    "print(\"Validation number of examples: \",mnist.validation.num_examples)\n",
    "print(\"Test number of examples: \",mnist.test.num_examples)"
   ]
  },
  {
   "cell_type": "code",
   "execution_count": null,
   "metadata": {
    "collapsed": true
   },
   "outputs": [],
   "source": [
    "#sess = tf.InteractiveSession()\n",
    "\n",
    "# If you are not using interactive session you should build the grahp first and launch it.\n",
    "# How to launch the graph:\n",
    "# https://www.tensorflow.org/versions/r0.12/get_started/basic_usage#launching_the_graph_in_a_session\n"
   ]
  },
  {
   "cell_type": "code",
   "execution_count": 100,
   "metadata": {
    "collapsed": false
   },
   "outputs": [],
   "source": [
    "def weight_variable(shape):\n",
    "    std_val = 1.0\n",
    "    initial = tf.truncated_normal(shape, stddev=std_val / math.sqrt(float(shape[0])))\n",
    "    #initial = tf.truncated_normal(shape, stddev=std_val)\n",
    "    return tf.Variable(initial)\n",
    "\n",
    "def bias_variable(shape):\n",
    "    initial = tf.constant(0.1, shape=shape)\n",
    "    return tf.Variable(initial)\n"
   ]
  },
  {
   "cell_type": "code",
   "execution_count": 101,
   "metadata": {
    "collapsed": true
   },
   "outputs": [],
   "source": [
    "# Here x and y_ aren't specific values. Rather, \n",
    "# they are each a placeholder -- a value that we'll input when we ask TensorFlow \n",
    "# to run a computation.\n",
    "\n",
    "# The first diemnsion (None) corresponds to batch size and does not have to be specified now\n",
    "x = tf.placeholder(tf.float32, shape=[None, 784])\n",
    "y_ = tf.placeholder(tf.float32, shape=[None, 10])  # labels"
   ]
  },
  {
   "cell_type": "code",
   "execution_count": 102,
   "metadata": {
    "collapsed": false
   },
   "outputs": [],
   "source": [
    "W1 = weight_variable([784,256])\n",
    "b1 = bias_variable([256]) # I have given also [10,1]) once. U can test it\n",
    "\n",
    "W2 = weight_variable([256,64])\n",
    "b2 = bias_variable([64]) # I have given also [10,1]) once. U can test it\n",
    "\n",
    "W3 = weight_variable([64,10])\n",
    "b3 = bias_variable([10]) # I have given also [10,1]) once. U can test it"
   ]
  },
  {
   "cell_type": "code",
   "execution_count": 103,
   "metadata": {
    "collapsed": true
   },
   "outputs": [],
   "source": [
    "y1 = tf.nn.relu( tf.matmul(x,W1) + b1 )\n",
    "y2 = tf.nn.relu( tf.matmul(y1,W2) + b2 )\n",
    "y = tf.matmul(y2,W3) + b3 # logits"
   ]
  },
  {
   "cell_type": "code",
   "execution_count": 111,
   "metadata": {
    "collapsed": false
   },
   "outputs": [
    {
     "data": {
      "text/plain": [
       "'\\nprediction = tf.nn.softmax(y)\\n# Cross entropy\\ncross_entropy = -tf.reduce_sum(y_ * tf.log(prediction), reduction_indices=1)\\n# Training loss\\ncross_entropy_loss = tf.reduce_mean(cross_entropy)\\n'"
      ]
     },
     "execution_count": 111,
     "metadata": {},
     "output_type": "execute_result"
    }
   ],
   "source": [
    "# Define a loss function (cross entropy loss function)\n",
    "cross_entropy_loss = tf.reduce_mean(tf.nn.softmax_cross_entropy_with_logits(logits=y, labels=y_),\n",
    "                                   name='xentropy_mean')\n",
    "\n",
    "# Alternative way of defining loss function\n",
    "'''\n",
    "prediction = tf.nn.softmax(y)\n",
    "# Cross entropy\n",
    "cross_entropy = -tf.reduce_sum(y_ * tf.log(prediction), reduction_indices=1)\n",
    "# Training loss\n",
    "cross_entropy_loss = tf.reduce_mean(cross_entropy)\n",
    "'''"
   ]
  },
  {
   "cell_type": "code",
   "execution_count": 112,
   "metadata": {
    "collapsed": true
   },
   "outputs": [],
   "source": [
    "global_step = tf.Variable(0, name='global_step', trainable=False)\n",
    "\n",
    "learning_rate = 0.5\n",
    "# Gradient Descent\n",
    "# train_step = tf.train.GradientDescentOptimizer(learning_rate).minimize(cross_entropy_loss) \n",
    "# ADAM optimizer\n",
    "train_step = tf.train.AdamOptimizer(0.0001).minimize(cross_entropy_loss, global_step=global_step) "
   ]
  },
  {
   "cell_type": "code",
   "execution_count": 113,
   "metadata": {
    "collapsed": true
   },
   "outputs": [],
   "source": [
    "# Create an operation that initializes all variables\n",
    "init = tf.global_variables_initializer()"
   ]
  },
  {
   "cell_type": "code",
   "execution_count": 114,
   "metadata": {
    "collapsed": true
   },
   "outputs": [],
   "source": [
    "correct_prediction = tf.equal(tf.argmax(y,1), tf.argmax(y_,1))\n",
    "accuracy = tf.reduce_mean(tf.cast(correct_prediction, tf.float32))"
   ]
  },
  {
   "cell_type": "code",
   "execution_count": 115,
   "metadata": {
    "collapsed": false
   },
   "outputs": [
    {
     "name": "stdout",
     "output_type": "stream",
     "text": [
      "0.9226\n"
     ]
    }
   ],
   "source": [
    "# Session management:\n",
    "# https://www.tensorflow.org/versions/r0.12/api_docs/python/client/session_management\n",
    "\n",
    "# Difference between Session.run() and Tesnor.eval():\n",
    "# https://github.com/Kulbear/tensorflow-for-deep-learning-research/issues/2\n",
    "\n",
    "with tf.Session() as sess:\n",
    "    sess.run(init)\n",
    "    \n",
    "    for i in range(1000):\n",
    "        batch = mnist.train.next_batch(100)\n",
    "        sess.run( train_step, feed_dict={x: batch[0], y_: batch[1]})\n",
    "        #train_step.run(feed_dict={x: batch[0], y_: batch[1]})\n",
    "    \n",
    "    print(accuracy.eval(feed_dict={x: mnist.test.images, y_: mnist.test.labels}))\n",
    "\n",
    "    "
   ]
  },
  {
   "cell_type": "code",
   "execution_count": null,
   "metadata": {
    "collapsed": true
   },
   "outputs": [],
   "source": [
    "# Linki\n",
    "# 1: https://www.tensorflow.org/versions/r0.12/tutorials/mnist/tf/\n",
    "# 2: https://www.tensorflow.org/versions/r0.12/how_tos/summaries_and_tensorboard/#serializing_the_data\n",
    "\n",
    "    "
   ]
  }
 ],
 "metadata": {
  "kernelspec": {
   "display_name": "Python 3",
   "language": "python",
   "name": "python3"
  },
  "language_info": {
   "codemirror_mode": {
    "name": "ipython",
    "version": 3
   },
   "file_extension": ".py",
   "mimetype": "text/x-python",
   "name": "python",
   "nbconvert_exporter": "python",
   "pygments_lexer": "ipython3",
   "version": "3.5.4"
  }
 },
 "nbformat": 4,
 "nbformat_minor": 2
}
